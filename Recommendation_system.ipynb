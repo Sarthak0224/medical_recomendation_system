{
 "cells": [
  {
   "cell_type": "code",
   "execution_count": null,
   "id": "e6fbd67a-20db-4927-9c98-bce85ecd14b5",
   "metadata": {},
   "outputs": [],
   "source": []
  },
  {
   "cell_type": "code",
   "execution_count": null,
   "id": "0d529979-9b6f-4c47-b0b1-02c28a0dc8dd",
   "metadata": {},
   "outputs": [],
   "source": [
    "# Importing csv\n",
    "df = pd.read_csv(\"C:\\\\Users\\\\Sarthak\\\\Downloads\\\\medicine.csv\")"
   ]
  },
  {
   "cell_type": "markdown",
   "id": "bbb706d1-433d-4fca-aa9f-41d35e0180e0",
   "metadata": {},
   "source": [
    "##### EDA"
   ]
  },
  {
   "cell_type": "code",
   "execution_count": null,
   "id": "4e0a3975-0aee-4d4e-9218-32b23f4b33c6",
   "metadata": {},
   "outputs": [],
   "source": [
    "df.head()"
   ]
  },
  {
   "cell_type": "code",
   "execution_count": null,
   "id": "bab2528d-a5d4-4a7a-a0ca-9e20b790b5e3",
   "metadata": {},
   "outputs": [],
   "source": [
    "df.info()"
   ]
  },
  {
   "cell_type": "code",
   "execution_count": null,
   "id": "0883660e-288c-40eb-84d5-2eca73e1c9fe",
   "metadata": {},
   "outputs": [],
   "source": [
    "pivot_table = pd.pivot_table(df, index='Description', columns='Reason', aggfunc='size', fill_value=0)\n",
    "print(pivot_table)"
   ]
  },
  {
   "cell_type": "code",
   "execution_count": null,
   "id": "65a114fa-fdf6-49c2-bf30-226570404bcd",
   "metadata": {},
   "outputs": [],
   "source": [
    "pivot_table.head()"
   ]
  },
  {
   "cell_type": "code",
   "execution_count": null,
   "id": "92462f6f-b679-4d18-a17e-e81188612ff4",
   "metadata": {},
   "outputs": [],
   "source": [
    "# Count the non-zero values in each row\n",
    "non_zero_counts = pivot_table.apply(lambda row: (row != 0).sum(), axis=1)\n",
    "\n",
    "# Create a new DataFrame from the non-zero counts\n",
    "non_zero_counts_df = pd.DataFrame(non_zero_counts, columns=['Non-Zero Count']).reset_index()\n",
    "\n",
    "# rename the columns \n",
    "non_zero_counts_df.columns = ['Description', 'Non-Zero Count']"
   ]
  },
  {
   "cell_type": "code",
   "execution_count": null,
   "id": "a7319632-4a0e-4b8a-bd43-ae8f59baba11",
   "metadata": {},
   "outputs": [],
   "source": [
    "non_zero_counts_df[non_zero_counts_df[\"Non-Zero Count\"] != 1]"
   ]
  },
  {
   "cell_type": "code",
   "execution_count": null,
   "id": "6c3e8b12-940c-455d-9e2e-6ad72c06d70d",
   "metadata": {},
   "outputs": [],
   "source": [
    "# List of values to drop\n",
    "values_to_drop = non_zero_counts_df[non_zero_counts_df[\"Non-Zero Count\"] != 1][\"Description\"].tolist()\n",
    "\n",
    "# Drop rows where 'Description' column contains any of the listed values\n",
    "df_cleaned = df[~df['Description'].isin(values_to_drop)]\n",
    "\n",
    "# Optionally, reset the index if needed\n",
    "df_cleaned = df_cleaned.reset_index(drop=True)\n",
    "\n",
    "# Display the cleaned DataFrame\n",
    "print(df_cleaned)"
   ]
  },
  {
   "cell_type": "code",
   "execution_count": null,
   "id": "8d239cc6-3ba2-4b06-8feb-10a8267af1ee",
   "metadata": {},
   "outputs": [],
   "source": [
    "df_cleaned.info()"
   ]
  },
  {
   "cell_type": "code",
   "execution_count": null,
   "id": "0347195a-5bbf-4508-9a44-07fccede73c0",
   "metadata": {},
   "outputs": [],
   "source": [
    "len(df_cleaned[\"Drug_Name\"].unique())"
   ]
  },
  {
   "cell_type": "code",
   "execution_count": null,
   "id": "8ae5cce0-df3b-4b83-b46b-e524e6816251",
   "metadata": {},
   "outputs": [],
   "source": [
    "len(df_cleaned[\"Reason\"].unique())"
   ]
  },
  {
   "cell_type": "code",
   "execution_count": null,
   "id": "6bcfbe68-2a9d-44b2-ac6b-05a5e3b799e7",
   "metadata": {},
   "outputs": [],
   "source": [
    "len(df_cleaned[\"Description\"].unique())"
   ]
  },
  {
   "cell_type": "markdown",
   "id": "53f90473-e53b-4b8c-a27a-159607493eed",
   "metadata": {},
   "source": [
    "##### Cosine similarity"
   ]
  },
  {
   "cell_type": "code",
   "execution_count": null,
   "id": "ef31ed81-7d0f-420d-851e-e72a134d00a1",
   "metadata": {},
   "outputs": [],
   "source": [
    "# Encode 'Gender' and 'Medical Condition'\n",
    "label_encoder = LabelEncoder()\n",
    "\n",
    "# encoding columns \n",
    "df_cleaned['Reason_e'] = label_encoder.fit_transform(df_cleaned['Reason'])\n",
    "df_cleaned['Description_e'] = label_encoder.fit_transform(df_cleaned['Description'])\n",
    "\n",
    "# Creating feature matrix using Reason and description column \n",
    "features = df_cleaned[['Reason_e','Description_e']]\n",
    "\n",
    "# Cosine similarity\n",
    "similarity_matrix = cosine_similarity(features)\n",
    "similarity_matrix"
   ]
  },
  {
   "cell_type": "code",
   "execution_count": null,
   "id": "6e39a41c-8761-4cc1-94d3-b984ab2657cd",
   "metadata": {},
   "outputs": [],
   "source": [
    "df_cleaned.head()"
   ]
  },
  {
   "cell_type": "code",
   "execution_count": null,
   "id": "8c83cf5d-42c3-4670-af03-346a8ba4a503",
   "metadata": {},
   "outputs": [],
   "source": [
    "df_cleaned.info()"
   ]
  },
  {
   "cell_type": "code",
   "execution_count": null,
   "id": "a832eeaf-2fe4-4d53-86d6-d16a6e4590bf",
   "metadata": {},
   "outputs": [],
   "source": [
    "def recommend_drugs(index, similarity_matrix, df_cleaned, n_recommendations=3):\n",
    "    # Find the similarity scores for the specified index (drug)\n",
    "    similarity_scores = list(enumerate(similarity_matrix[index]))\n",
    "    \n",
    "    # Sort drugs by similarity score in descending order\n",
    "    similarity_scores = sorted(similarity_scores, key=lambda x: x[1], reverse=True)\n",
    "    \n",
    "    # Get the indices of the top 'n_recommendations' similar drugs (excluding the current drug itself)\n",
    "    similar_drugs = [drug for drug in similarity_scores if drug[0] != index][:n_recommendations]\n",
    "    \n",
    "    # Get drug names from similar drugs\n",
    "    recommended_drugs = []\n",
    "    for drug in similar_drugs:\n",
    "        similar_drug_index = drug[0]\n",
    "        drug_name = df_cleaned.iloc[similar_drug_index]['Drug_Name']\n",
    "        recommended_drugs.append(drug_name)\n",
    "    \n",
    "    return recommended_drugs\n",
    "\n",
    "# Example: Recommend drugs for the entry with index = 10\n",
    "index = 3\n",
    "recommendations = recommend_drugs(index, similarity_matrix, df_cleaned)\n",
    "print(f\"Recommended Drugs for entry with index {index}: {recommendations}\")"
   ]
  },
  {
   "cell_type": "code",
   "execution_count": null,
   "id": "53905768-2177-4895-84ef-7629e9a62c6b",
   "metadata": {},
   "outputs": [],
   "source": [
    "def evaluate_recommendations(index, recommendations, df_cleaned):\n",
    "    # Get the Reason and Description for the original drug\n",
    "    original_reason = df_cleaned.iloc[index]['Reason']\n",
    "    original_description = df_cleaned.iloc[index]['Description']\n",
    "    original_drug = df_cleaned.iloc[index]['Drug_Name']\n",
    "    \n",
    "    print(f\"Original Drug for index {index}: {original_drug}\")\n",
    "    print(f\"Reason: {original_reason}\")\n",
    "    print(f\"Description: {original_description}\\n\")\n",
    "    \n",
    "    # Display the recommended drugs with their Reason and Description\n",
    "    print(\"Recommended Drugs:\")\n",
    "    for drug_name in recommendations:\n",
    "        # Filter the DataFrame to get the row where 'Drug_Name' matches the recommended drug\n",
    "        recommended_drug = df_cleaned[df_cleaned['Drug_Name'] == drug_name].iloc[0]  # Get the first match\n",
    "        \n",
    "        print(f\"\\nDrug Name: {recommended_drug['Drug_Name']}\")\n",
    "        print(f\"Reason: {recommended_drug['Reason']}\")\n",
    "        print(f\"Description: {recommended_drug['Description']}\")\n",
    "evaluate_recommendations(index, recommendations, df_cleaned)"
   ]
  }
 ],
 "metadata": {
  "kernelspec": {
   "display_name": "Python 3 (ipykernel)",
   "language": "python",
   "name": "python3"
  },
  "language_info": {
   "codemirror_mode": {
    "name": "ipython",
    "version": 3
   },
   "file_extension": ".py",
   "mimetype": "text/x-python",
   "name": "python",
   "nbconvert_exporter": "python",
   "pygments_lexer": "ipython3",
   "version": "3.9.19"
  }
 },
 "nbformat": 4,
 "nbformat_minor": 5
}
